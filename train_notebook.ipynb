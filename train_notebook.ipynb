{
 "cells": [
  {
   "cell_type": "markdown",
   "metadata": {
    "id": "QNEo96LdWxd8"
   },
   "source": [
    "# **Train AlphaZero**"
   ]
  },
  {
   "cell_type": "code",
   "execution_count": 1,
   "metadata": {
    "execution": {
     "iopub.execute_input": "2022-12-28T14:17:06.371467Z",
     "iopub.status.busy": "2022-12-28T14:17:06.371048Z",
     "iopub.status.idle": "2022-12-28T14:17:06.380132Z",
     "shell.execute_reply": "2022-12-28T14:17:06.378653Z",
     "shell.execute_reply.started": "2022-12-28T14:17:06.371425Z"
    }
   },
   "outputs": [
    {
     "name": "stdout",
     "output_type": "stream",
     "text": [
      "Requirement already satisfied: coloredlogs in /home/moxitron/anaconda3/lib/python3.8/site-packages (15.0.1)\r\n",
      "Requirement already satisfied: humanfriendly>=9.1 in /home/moxitron/anaconda3/lib/python3.8/site-packages (from coloredlogs) (10.0)\r\n"
     ]
    }
   ],
   "source": [
    "!pip install coloredlogs"
   ]
  },
  {
   "cell_type": "code",
   "execution_count": 24,
   "metadata": {
    "execution": {
     "iopub.execute_input": "2022-12-28T14:17:16.203082Z",
     "iopub.status.busy": "2022-12-28T14:17:16.202483Z",
     "iopub.status.idle": "2022-12-28T14:17:16.207799Z",
     "shell.execute_reply": "2022-12-28T14:17:16.206875Z",
     "shell.execute_reply.started": "2022-12-28T14:17:16.203048Z"
    },
    "id": "vsMxLhdKWO-H"
   },
   "outputs": [],
   "source": [
    "import logging\n",
    "from Coach import Coach\n",
    "from utils import dotdict\n",
    "from dotsandboxes.keras.NNet import NNetWrapper\n",
    "from dotsandboxes.DotsAndBoxesGame import DotsAndBoxesGame"
   ]
  },
  {
   "cell_type": "code",
   "execution_count": 25,
   "metadata": {},
   "outputs": [],
   "source": [
    "import coloredlogs\n",
    "coloredlogs.install(level='DEBUG')"
   ]
  },
  {
   "cell_type": "code",
   "execution_count": 26,
   "metadata": {
    "execution": {
     "iopub.execute_input": "2022-12-28T14:18:01.638396Z",
     "iopub.status.busy": "2022-12-28T14:18:01.637927Z",
     "iopub.status.idle": "2022-12-28T14:18:01.645221Z",
     "shell.execute_reply": "2022-12-28T14:18:01.643501Z",
     "shell.execute_reply.started": "2022-12-28T14:18:01.638357Z"
    },
    "id": "WzIsb1wGVXkE"
   },
   "outputs": [],
   "source": [
    "args = dotdict({\n",
    "    'numIters': 3,\n",
    "    'numEps': 50,               # Number of complete self-play games to simulate during a new iteration.\n",
    "    'tempThreshold': 15,        #\n",
    "    'updateThreshold': 0.55,     # During arena playoff, new neural net will be accepted if threshold or more of games are won.\n",
    "    'maxlenOfQueue': 200000,    # Number of game examples to train the neural networks.\n",
    "    'numMCTSSims': 30,          # Number of games moves for MCTS to simulate.\n",
    "    'arenaCompare': 20,         # Number of games to play during arena play to determine if new net will be accepted.\n",
    "    'cpuct': 1,\n",
    "    'checkpoint': './checkpoints',\n",
    "    'load_folder_file': ('./checkpoints/', 'checkpoint_1.pth.tar'),\n",
    "    'load_model': True,\n",
    "    'numItersForTrainExamplesHistory': 20,\n",
    "})"
   ]
  },
  {
   "cell_type": "code",
   "execution_count": 27,
   "metadata": {
    "execution": {
     "iopub.execute_input": "2022-12-28T14:18:07.841899Z",
     "iopub.status.busy": "2022-12-28T14:18:07.840800Z",
     "iopub.status.idle": "2022-12-28T14:18:07.847642Z",
     "shell.execute_reply": "2022-12-28T14:18:07.846192Z",
     "shell.execute_reply.started": "2022-12-28T14:18:07.841841Z"
    },
    "id": "c5fKMHufYD3m"
   },
   "outputs": [],
   "source": [
    "game = DotsAndBoxesGame(n=3)"
   ]
  },
  {
   "cell_type": "code",
   "execution_count": 28,
   "metadata": {
    "execution": {
     "iopub.execute_input": "2022-12-28T14:18:09.641216Z",
     "iopub.status.busy": "2022-12-28T14:18:09.640745Z",
     "iopub.status.idle": "2022-12-28T14:18:09.899628Z",
     "shell.execute_reply": "2022-12-28T14:18:09.897820Z",
     "shell.execute_reply.started": "2022-12-28T14:18:09.641176Z"
    },
    "id": "VGKmzJ9kYF9O"
   },
   "outputs": [],
   "source": [
    "nnet = NNetWrapper(game) ; "
   ]
  },
  {
   "cell_type": "code",
   "execution_count": 29,
   "metadata": {
    "colab": {
     "base_uri": "https://localhost:8080/"
    },
    "execution": {
     "iopub.execute_input": "2022-12-28T14:18:12.798302Z",
     "iopub.status.busy": "2022-12-28T14:18:12.797868Z",
     "iopub.status.idle": "2022-12-28T14:18:12.805291Z",
     "shell.execute_reply": "2022-12-28T14:18:12.803900Z",
     "shell.execute_reply.started": "2022-12-28T14:18:12.798266Z"
    },
    "id": "KvkW0rl9YHeE",
    "outputId": "0bbe1c02-222c-4c29-f88a-88f613a3bbf8"
   },
   "outputs": [
    {
     "name": "stdout",
     "output_type": "stream",
     "text": [
      "Loading checkpoint \"./checkpoints//checkpoint_1.pth.tar\"...\n"
     ]
    }
   ],
   "source": [
    "if args.load_model:\n",
    "    print('Loading checkpoint \"{}/{}\"...'.format(args.load_folder_file[0], args.load_folder_file[1]))\n",
    "    nnet.load_checkpoint(args.load_folder_file[0], args.load_folder_file[1])\n",
    "else:\n",
    "    print('Not loading a checkpoint.')"
   ]
  },
  {
   "cell_type": "code",
   "execution_count": 30,
   "metadata": {
    "execution": {
     "iopub.execute_input": "2022-12-28T14:18:16.528313Z",
     "iopub.status.busy": "2022-12-28T14:18:16.527895Z",
     "iopub.status.idle": "2022-12-28T14:18:16.681365Z",
     "shell.execute_reply": "2022-12-28T14:18:16.680114Z",
     "shell.execute_reply.started": "2022-12-28T14:18:16.528276Z"
    },
    "id": "ESToLzAkYKED"
   },
   "outputs": [],
   "source": [
    "coach = Coach(game, nnet, args)"
   ]
  },
  {
   "cell_type": "code",
   "execution_count": 31,
   "metadata": {},
   "outputs": [
    {
     "name": "stderr",
     "output_type": "stream",
     "text": [
      "2022-12-30 15:24:27 aspire-e1-571 Coach[86284] INFO File with trainExamples found. Loading it...\n",
      "2022-12-30 15:24:27 aspire-e1-571 Coach[86284] INFO Loading done!\n"
     ]
    },
    {
     "name": "stdout",
     "output_type": "stream",
     "text": [
      "Loading training examples \"./checkpoints//checkpoint_1.pth.tar\"...\n"
     ]
    }
   ],
   "source": [
    "if args.load_model:\n",
    "    print('Loading training examples \"{}/{}\"...'.format(args.load_folder_file[0], args.load_folder_file[1]))\n",
    "    coach.loadTrainExamples()\n",
    "else:\n",
    "    print('Not loading a examples.')"
   ]
  },
  {
   "cell_type": "code",
   "execution_count": 57,
   "metadata": {
    "colab": {
     "base_uri": "https://localhost:8080/"
    },
    "execution": {
     "iopub.execute_input": "2022-12-28T14:01:05.944156Z",
     "iopub.status.busy": "2022-12-28T14:01:05.943704Z",
     "iopub.status.idle": "2022-12-28T14:15:11.435686Z",
     "shell.execute_reply": "2022-12-28T14:15:11.434651Z",
     "shell.execute_reply.started": "2022-12-28T14:01:05.944116Z"
    },
    "id": "0uJRc2aRVjN-",
    "outputId": "f89c606e-853f-4a93-c13c-bc109920d981"
   },
   "outputs": [
    {
     "name": "stderr",
     "output_type": "stream",
     "text": [
      "Self Play: 100%|██████████| 2/2 [03:32<00:00, 106.00s/it]\n"
     ]
    },
    {
     "name": "stdout",
     "output_type": "stream",
     "text": [
      "Checkpoint Directory exists! \n",
      "Epoch 1/10\n",
      "29/29 [==============================] - 1s 5ms/step - loss: 5.6253 - pi_loss: 4.0753 - v_loss: 1.5500\n",
      "Epoch 2/10\n",
      "29/29 [==============================] - 0s 5ms/step - loss: 4.8414 - pi_loss: 3.4489 - v_loss: 1.3925\n",
      "Epoch 3/10\n",
      "29/29 [==============================] - 0s 6ms/step - loss: 4.5460 - pi_loss: 3.2808 - v_loss: 1.2651\n",
      "Epoch 4/10\n",
      "29/29 [==============================] - 0s 5ms/step - loss: 4.3301 - pi_loss: 3.1963 - v_loss: 1.1338\n",
      "Epoch 5/10\n",
      "29/29 [==============================] - 0s 5ms/step - loss: 4.1393 - pi_loss: 3.1459 - v_loss: 0.9934\n",
      "Epoch 6/10\n",
      "29/29 [==============================] - 0s 5ms/step - loss: 3.9754 - pi_loss: 3.0928 - v_loss: 0.8826\n",
      "Epoch 7/10\n",
      "29/29 [==============================] - 0s 5ms/step - loss: 3.8583 - pi_loss: 3.0600 - v_loss: 0.7983\n",
      "Epoch 8/10\n",
      "29/29 [==============================] - 0s 5ms/step - loss: 3.7875 - pi_loss: 3.0164 - v_loss: 0.7711\n",
      "Epoch 9/10\n",
      "29/29 [==============================] - 0s 5ms/step - loss: 3.6867 - pi_loss: 2.9450 - v_loss: 0.7417\n",
      "Epoch 10/10\n",
      "29/29 [==============================] - 0s 5ms/step - loss: 3.6640 - pi_loss: 2.9115 - v_loss: 0.7525\n"
     ]
    },
    {
     "name": "stderr",
     "output_type": "stream",
     "text": [
      "Arena.playGames (1): 100%|██████████| 1/1 [01:47<00:00, 107.08s/it]\n",
      "Arena.playGames (2): 100%|██████████| 1/1 [01:45<00:00, 105.45s/it]\n"
     ]
    },
    {
     "name": "stdout",
     "output_type": "stream",
     "text": [
      "Checkpoint Directory exists! \n",
      "Checkpoint Directory exists! \n"
     ]
    },
    {
     "name": "stderr",
     "output_type": "stream",
     "text": [
      "Self Play: 100%|██████████| 2/2 [03:24<00:00, 102.10s/it]\n"
     ]
    },
    {
     "name": "stdout",
     "output_type": "stream",
     "text": [
      "Checkpoint Directory exists! \n",
      "Epoch 1/10\n",
      "57/57 [==============================] - 0s 6ms/step - loss: 3.8369 - pi_loss: 3.0730 - v_loss: 0.7639\n",
      "Epoch 2/10\n",
      "57/57 [==============================] - 0s 6ms/step - loss: 3.6945 - pi_loss: 3.0012 - v_loss: 0.6933\n",
      "Epoch 3/10\n",
      "57/57 [==============================] - 0s 5ms/step - loss: 3.6025 - pi_loss: 2.9248 - v_loss: 0.6777\n",
      "Epoch 4/10\n",
      "57/57 [==============================] - 0s 5ms/step - loss: 3.5265 - pi_loss: 2.8863 - v_loss: 0.6402\n",
      "Epoch 5/10\n",
      "57/57 [==============================] - 0s 8ms/step - loss: 3.4453 - pi_loss: 2.8211 - v_loss: 0.6242\n",
      "Epoch 6/10\n",
      "57/57 [==============================] - 0s 6ms/step - loss: 3.3830 - pi_loss: 2.7487 - v_loss: 0.6343\n",
      "Epoch 7/10\n",
      "57/57 [==============================] - 0s 6ms/step - loss: 3.3089 - pi_loss: 2.6919 - v_loss: 0.6170\n",
      "Epoch 8/10\n",
      "57/57 [==============================] - 0s 6ms/step - loss: 3.2457 - pi_loss: 2.6362 - v_loss: 0.6095\n",
      "Epoch 9/10\n",
      "57/57 [==============================] - 0s 5ms/step - loss: 3.1987 - pi_loss: 2.5772 - v_loss: 0.6215\n",
      "Epoch 10/10\n",
      "57/57 [==============================] - 0s 5ms/step - loss: 3.1404 - pi_loss: 2.5244 - v_loss: 0.6160\n"
     ]
    },
    {
     "name": "stderr",
     "output_type": "stream",
     "text": [
      "Arena.playGames (1): 100%|██████████| 1/1 [01:44<00:00, 104.09s/it]\n",
      "Arena.playGames (2): 100%|██████████| 1/1 [01:44<00:00, 104.79s/it]"
     ]
    },
    {
     "name": "stdout",
     "output_type": "stream",
     "text": [
      "CPU times: user 12min 34s, sys: 28.3 s, total: 13min 3s\n",
      "Wall time: 14min 5s\n"
     ]
    },
    {
     "name": "stderr",
     "output_type": "stream",
     "text": [
      "\n"
     ]
    }
   ],
   "source": [
    "%time coach.learn()"
   ]
  },
  {
   "cell_type": "code",
   "execution_count": 19,
   "metadata": {
    "execution": {
     "iopub.execute_input": "2022-12-28T14:18:21.550277Z",
     "iopub.status.busy": "2022-12-28T14:18:21.549560Z",
     "iopub.status.idle": "2022-12-28T14:40:34.697080Z",
     "shell.execute_reply": "2022-12-28T14:40:34.695628Z",
     "shell.execute_reply.started": "2022-12-28T14:18:21.550239Z"
    }
   },
   "outputs": [
    {
     "name": "stderr",
     "output_type": "stream",
     "text": [
      "Self Play:   0%|          | 0/2 [00:00<?, ?it/s]2022-12-28 14:18:21.842485: I tensorflow/compiler/mlir/mlir_graph_optimization_pass.cc:185] None of the MLIR Optimization Passes are enabled (registered 2)\n",
      "Self Play: 100%|██████████| 2/2 [05:14<00:00, 157.40s/it]\n"
     ]
    },
    {
     "name": "stdout",
     "output_type": "stream",
     "text": [
      "Checkpoint Directory exists! \n",
      "Epoch 1/10\n",
      "28/28 [==============================] - 3s 29ms/step - loss: 5.6083 - pi_loss: 4.2313 - v_loss: 1.3770\n",
      "Epoch 2/10\n",
      "28/28 [==============================] - 1s 28ms/step - loss: 4.9873 - pi_loss: 3.6140 - v_loss: 1.3733\n",
      "Epoch 3/10\n",
      "28/28 [==============================] - 1s 28ms/step - loss: 4.7747 - pi_loss: 3.4860 - v_loss: 1.2887\n",
      "Epoch 4/10\n",
      "28/28 [==============================] - 1s 28ms/step - loss: 4.5722 - pi_loss: 3.4242 - v_loss: 1.1480\n",
      "Epoch 5/10\n",
      "28/28 [==============================] - 1s 28ms/step - loss: 4.4552 - pi_loss: 3.3384 - v_loss: 1.1169\n",
      "Epoch 6/10\n",
      "28/28 [==============================] - 1s 28ms/step - loss: 4.3228 - pi_loss: 3.3067 - v_loss: 1.0162\n",
      "Epoch 7/10\n",
      "28/28 [==============================] - 1s 28ms/step - loss: 4.2573 - pi_loss: 3.2927 - v_loss: 0.9646\n",
      "Epoch 8/10\n",
      "28/28 [==============================] - 1s 29ms/step - loss: 4.1687 - pi_loss: 3.2295 - v_loss: 0.9392\n",
      "Epoch 9/10\n",
      "28/28 [==============================] - 1s 30ms/step - loss: 4.1242 - pi_loss: 3.1905 - v_loss: 0.9337\n",
      "Epoch 10/10\n",
      "28/28 [==============================] - 1s 28ms/step - loss: 4.0424 - pi_loss: 3.1325 - v_loss: 0.9098\n"
     ]
    },
    {
     "name": "stderr",
     "output_type": "stream",
     "text": [
      "Arena.playGames (1): 100%|██████████| 1/1 [02:48<00:00, 168.94s/it]\n",
      "Arena.playGames (2): 100%|██████████| 1/1 [02:50<00:00, 170.57s/it]\n"
     ]
    },
    {
     "name": "stdout",
     "output_type": "stream",
     "text": [
      "Checkpoint Directory exists! \n",
      "Checkpoint Directory exists! \n"
     ]
    },
    {
     "name": "stderr",
     "output_type": "stream",
     "text": [
      "Self Play: 100%|██████████| 2/2 [05:14<00:00, 157.41s/it]\n"
     ]
    },
    {
     "name": "stdout",
     "output_type": "stream",
     "text": [
      "Checkpoint Directory exists! \n",
      "Epoch 1/10\n",
      "56/56 [==============================] - 2s 28ms/step - loss: 3.8905 - pi_loss: 3.1402 - v_loss: 0.7502\n",
      "Epoch 2/10\n",
      "56/56 [==============================] - 2s 28ms/step - loss: 3.7382 - pi_loss: 3.0354 - v_loss: 0.7028\n",
      "Epoch 3/10\n",
      "56/56 [==============================] - 2s 27ms/step - loss: 3.6467 - pi_loss: 2.9649 - v_loss: 0.6818\n",
      "Epoch 4/10\n",
      "56/56 [==============================] - 2s 27ms/step - loss: 3.5613 - pi_loss: 2.9026 - v_loss: 0.6587\n",
      "Epoch 5/10\n",
      "56/56 [==============================] - 2s 27ms/step - loss: 3.5118 - pi_loss: 2.8489 - v_loss: 0.6630\n",
      "Epoch 6/10\n",
      "56/56 [==============================] - 2s 27ms/step - loss: 3.4413 - pi_loss: 2.7846 - v_loss: 0.6567\n",
      "Epoch 7/10\n",
      "56/56 [==============================] - 2s 28ms/step - loss: 3.3477 - pi_loss: 2.7213 - v_loss: 0.6264\n",
      "Epoch 8/10\n",
      "56/56 [==============================] - 2s 41ms/step - loss: 3.2961 - pi_loss: 2.6577 - v_loss: 0.6384\n",
      "Epoch 9/10\n",
      "56/56 [==============================] - 2s 28ms/step - loss: 3.2330 - pi_loss: 2.5976 - v_loss: 0.6354\n",
      "Epoch 10/10\n",
      "56/56 [==============================] - 2s 28ms/step - loss: 3.1747 - pi_loss: 2.5538 - v_loss: 0.6210\n"
     ]
    },
    {
     "name": "stderr",
     "output_type": "stream",
     "text": [
      "Arena.playGames (1): 100%|██████████| 1/1 [02:48<00:00, 168.02s/it]\n",
      "Arena.playGames (2): 100%|██████████| 1/1 [02:47<00:00, 167.64s/it]"
     ]
    },
    {
     "name": "stdout",
     "output_type": "stream",
     "text": [
      "CPU times: user 22min 26s, sys: 41.4 s, total: 23min 8s\n",
      "Wall time: 22min 13s\n"
     ]
    },
    {
     "name": "stderr",
     "output_type": "stream",
     "text": [
      "\n"
     ]
    }
   ],
   "source": [
    "%time coach.learn()"
   ]
  },
  {
   "cell_type": "code",
   "execution_count": null,
   "metadata": {
    "colab": {
     "base_uri": "https://localhost:8080/"
    },
    "id": "b4CdwwNWd6vt",
    "outputId": "092f967a-b6eb-475a-eebf-31a54e8d6bd5"
   },
   "outputs": [
    {
     "name": "stdout",
     "output_type": "stream",
     "text": [
      "checkpoint                     temp.pth.tar.data-00000-of-00001\n",
      "\n",
      "checkpoint_0.pth.tar.examples  temp.pth.tar.index\n",
      "\n",
      "checkpoint_1.pth.tar.examples\n"
     ]
    }
   ],
   "source": [
    "# Checkpoints and best model (if found) will be saved in this folder\n",
    "%ls /content/alpha-zero-general/temp"
   ]
  }
 ],
 "metadata": {
  "accelerator": "GPU",
  "colab": {
   "collapsed_sections": [],
   "machine_shape": "hm",
   "name": "Train Dots and Boxes using AlphaZero General.ipynb",
   "provenance": []
  },
  "kernelspec": {
   "display_name": "Python 3 (ipykernel)",
   "language": "python",
   "name": "python3"
  },
  "language_info": {
   "codemirror_mode": {
    "name": "ipython",
    "version": 3
   },
   "file_extension": ".py",
   "mimetype": "text/x-python",
   "name": "python",
   "nbconvert_exporter": "python",
   "pygments_lexer": "ipython3",
   "version": "3.8.8"
  }
 },
 "nbformat": 4,
 "nbformat_minor": 4
}
