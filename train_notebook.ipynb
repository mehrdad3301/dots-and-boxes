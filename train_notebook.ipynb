{
 "cells": [
  {
   "cell_type": "markdown",
   "metadata": {
    "id": "QNEo96LdWxd8"
   },
   "source": [
    "# **Train AlphaZero**"
   ]
  },
  {
   "cell_type": "code",
   "execution_count": 6,
   "metadata": {
    "id": "vsMxLhdKWO-H"
   },
   "outputs": [],
   "source": [
    "import logging\n",
    "from Coach import Coach\n",
    "from utils import dotdict\n",
    "from dotsandboxes.keras.NNet import NNetWrapper\n",
    "from dotsandboxes.DotsAndBoxesGame import DotsAndBoxesGame"
   ]
  },
  {
   "cell_type": "code",
   "execution_count": null,
   "metadata": {
    "id": "pJi0kk_djiKm"
   },
   "outputs": [],
   "source": [
    "log = logging.getLogger(__name__)\n",
    "coloredlogs.install(level='INFO')  # Change this to DEBUG to see more info."
   ]
  },
  {
   "cell_type": "code",
   "execution_count": 7,
   "metadata": {
    "id": "WzIsb1wGVXkE"
   },
   "outputs": [],
   "source": [
    "args = dotdict({\n",
    "    'numIters': 1000,\n",
    "    'numEps': 100,              # Number of complete self-play games to simulate during a new iteration.\n",
    "    'tempThreshold': 15,        #\n",
    "    'updateThreshold': 0.6,     # During arena playoff, new neural net will be accepted if threshold or more of games are won.\n",
    "    'maxlenOfQueue': 200000,    # Number of game examples to train the neural networks.\n",
    "    'numMCTSSims': 25,          # Number of games moves for MCTS to simulate.\n",
    "    'arenaCompare': 40,         # Number of games to play during arena play to determine if new net will be accepted.\n",
    "    'cpuct': 1,\n",
    "    'checkpoint': './temp/',\n",
    "    'load_model': False,\n",
    "    'numItersForTrainExamplesHistory': 20,\n",
    "})"
   ]
  },
  {
   "cell_type": "code",
   "execution_count": 9,
   "metadata": {
    "colab": {
     "base_uri": "https://localhost:8080/"
    },
    "id": "W8_4QdwlXZ3k",
    "outputId": "cfb8c1cb-2913-4f5c-cb51-25587937ab93"
   },
   "outputs": [
    {
     "name": "stdout",
     "output_type": "stream",
     "text": [
      "Not using best pre-existing model\n"
     ]
    }
   ],
   "source": [
    "# If you have a pre-trained model, you can load it here.\n",
    "import os\n",
    "if os.path.exists(os.path.join('pretrained_models', 'dotsandboxes', 'keras', '3x3', 'best.pth.tar.index')):\n",
    "    print (\"Using best pre-existing model\")\n",
    "    args['load_model'] = True\n",
    "    args['load_folder_file'] = ('pretrained_models/dotsandboxes/keras/3x3','best.pth.tar')\n",
    "else:\n",
    "    print (\"Not using best pre-existing model\")"
   ]
  },
  {
   "cell_type": "code",
   "execution_count": 10,
   "metadata": {
    "id": "_oIZd4tVXGjI"
   },
   "outputs": [],
   "source": [
    "# Set very low iterations to let this notebook run in its entirety.\n",
    "\n",
    "# In reality, training a model, even as simple as the one for Dots and Boxes, can take several hours or days.\n",
    "args['numIters'] = 2\n",
    "args['numEps'] = 2\n",
    "args['arenaCompare'] = 2"
   ]
  },
  {
   "cell_type": "code",
   "execution_count": 11,
   "metadata": {
    "id": "c5fKMHufYD3m"
   },
   "outputs": [],
   "source": [
    "game = DotsAndBoxesGame(n=3)"
   ]
  },
  {
   "cell_type": "code",
   "execution_count": 12,
   "metadata": {
    "id": "VGKmzJ9kYF9O"
   },
   "outputs": [
    {
     "name": "stderr",
     "output_type": "stream",
     "text": [
      "2022-12-25 10:32:28.780151: I tensorflow/compiler/jit/xla_cpu_device.cc:41] Not creating XLA devices, tf_xla_enable_xla_devices not set\n",
      "2022-12-25 10:32:28.792314: I tensorflow/core/platform/cpu_feature_guard.cc:142] This TensorFlow binary is optimized with oneAPI Deep Neural Network Library (oneDNN) to use the following CPU instructions in performance-critical operations:  SSE4.1 SSE4.2 AVX\n",
      "To enable them in other operations, rebuild TensorFlow with the appropriate compiler flags.\n",
      "2022-12-25 10:32:28.874938: I tensorflow/core/common_runtime/process_util.cc:146] Creating new thread pool with default inter op setting: 2. Tune using inter_op_parallelism_threads for best performance.\n"
     ]
    }
   ],
   "source": [
    "nnet = NNetWrapper(game) ; "
   ]
  },
  {
   "cell_type": "code",
   "execution_count": 13,
   "metadata": {
    "colab": {
     "base_uri": "https://localhost:8080/"
    },
    "id": "KvkW0rl9YHeE",
    "outputId": "0bbe1c02-222c-4c29-f88a-88f613a3bbf8"
   },
   "outputs": [
    {
     "name": "stdout",
     "output_type": "stream",
     "text": [
      "Not loading a checkpoint.\n"
     ]
    }
   ],
   "source": [
    "if args.load_model:\n",
    "    print('Loading checkpoint \"{}/{}\"...'.format(args.load_folder_file[0], args.load_folder_file[1]))\n",
    "    nnet.load_checkpoint(args.load_folder_file[0], args.load_folder_file[1])\n",
    "else:\n",
    "    print('Not loading a checkpoint.')"
   ]
  },
  {
   "cell_type": "code",
   "execution_count": 14,
   "metadata": {
    "id": "ESToLzAkYKED"
   },
   "outputs": [],
   "source": [
    "coach = Coach(game, nnet, args)"
   ]
  },
  {
   "cell_type": "code",
   "execution_count": 15,
   "metadata": {
    "colab": {
     "base_uri": "https://localhost:8080/"
    },
    "id": "0uJRc2aRVjN-",
    "outputId": "f89c606e-853f-4a93-c13c-bc109920d981"
   },
   "outputs": [
    {
     "name": "stderr",
     "output_type": "stream",
     "text": [
      "Self Play:   0%|          | 0/2 [00:00<?, ?it/s]2022-12-25 10:33:10.714196: I tensorflow/compiler/mlir/mlir_graph_optimization_pass.cc:116] None of the MLIR optimization passes are enabled (registered 2)\n",
      "2022-12-25 10:33:10.838231: I tensorflow/core/platform/profile_utils/cpu_utils.cc:112] CPU Frequency: 2494355000 Hz\n",
      "Self Play: 100%|██████████| 2/2 [03:45<00:00, 113.00s/it]\n"
     ]
    },
    {
     "name": "stdout",
     "output_type": "stream",
     "text": [
      "Checkpoint Directory exists! \n",
      "Epoch 1/10\n",
      "8/8 [==============================] - 8s 114ms/step - loss: 5.1798 - pi_loss: 3.5359 - v_loss: 1.6438\n",
      "Epoch 2/10\n",
      "8/8 [==============================] - 1s 133ms/step - loss: 4.2623 - pi_loss: 2.8826 - v_loss: 1.3797\n",
      "Epoch 3/10\n",
      "8/8 [==============================] - 1s 121ms/step - loss: 3.7211 - pi_loss: 2.4518 - v_loss: 1.2693\n",
      "Epoch 4/10\n",
      "8/8 [==============================] - 1s 121ms/step - loss: 3.6910 - pi_loss: 2.4696 - v_loss: 1.2214\n",
      "Epoch 5/10\n",
      "8/8 [==============================] - 1s 116ms/step - loss: 3.4979 - pi_loss: 2.3119 - v_loss: 1.1860\n",
      "Epoch 6/10\n",
      "8/8 [==============================] - 1s 141ms/step - loss: 3.4696 - pi_loss: 2.3109 - v_loss: 1.1587\n",
      "Epoch 7/10\n",
      "8/8 [==============================] - 1s 149ms/step - loss: 3.1986 - pi_loss: 2.1433 - v_loss: 1.0553\n",
      "Epoch 8/10\n",
      "8/8 [==============================] - 1s 126ms/step - loss: 3.3168 - pi_loss: 2.1142 - v_loss: 1.2026\n",
      "Epoch 9/10\n",
      "8/8 [==============================] - 1s 123ms/step - loss: 3.3438 - pi_loss: 2.0780 - v_loss: 1.2659\n",
      "Epoch 10/10\n",
      "8/8 [==============================] - 1s 129ms/step - loss: 3.0160 - pi_loss: 2.0483 - v_loss: 0.9677\n"
     ]
    },
    {
     "name": "stderr",
     "output_type": "stream",
     "text": [
      "Arena.playGames (1): 100%|██████████| 1/1 [02:13<00:00, 133.40s/it]\n",
      "Arena.playGames (2): 100%|██████████| 1/1 [01:48<00:00, 108.93s/it]\n",
      "Self Play:   0%|          | 0/2 [00:00<?, ?it/s]"
     ]
    },
    {
     "name": "stdout",
     "output_type": "stream",
     "text": [
      "Checkpoint Directory exists! \n",
      "Checkpoint Directory exists! \n"
     ]
    },
    {
     "name": "stderr",
     "output_type": "stream",
     "text": [
      "Self Play: 100%|██████████| 2/2 [03:37<00:00, 108.58s/it]\n"
     ]
    },
    {
     "name": "stdout",
     "output_type": "stream",
     "text": [
      "Checkpoint Directory exists! \n",
      "Epoch 1/10\n",
      "16/16 [==============================] - 2s 108ms/step - loss: 3.5865 - pi_loss: 2.1349 - v_loss: 1.4516\n",
      "Epoch 2/10\n",
      "16/16 [==============================] - 2s 110ms/step - loss: 3.3168 - pi_loss: 2.0521 - v_loss: 1.2647\n",
      "Epoch 3/10\n",
      "16/16 [==============================] - 2s 102ms/step - loss: 3.0959 - pi_loss: 1.9436 - v_loss: 1.1523\n",
      "Epoch 4/10\n",
      "16/16 [==============================] - 2s 111ms/step - loss: 3.0721 - pi_loss: 1.9381 - v_loss: 1.1340\n",
      "Epoch 5/10\n",
      "16/16 [==============================] - 3s 178ms/step - loss: 3.0291 - pi_loss: 1.8724 - v_loss: 1.1567\n",
      "Epoch 6/10\n",
      "16/16 [==============================] - 2s 141ms/step - loss: 2.9165 - pi_loss: 1.8545 - v_loss: 1.0620\n",
      "Epoch 7/10\n",
      "16/16 [==============================] - 2s 139ms/step - loss: 2.8706 - pi_loss: 1.8291 - v_loss: 1.0415\n",
      "Epoch 8/10\n",
      "16/16 [==============================] - 2s 145ms/step - loss: 2.8052 - pi_loss: 1.8120 - v_loss: 0.9932\n",
      "Epoch 9/10\n",
      "16/16 [==============================] - 2s 139ms/step - loss: 2.6505 - pi_loss: 1.7721 - v_loss: 0.8784\n",
      "Epoch 10/10\n",
      "16/16 [==============================] - 2s 135ms/step - loss: 2.6289 - pi_loss: 1.7505 - v_loss: 0.8784\n"
     ]
    },
    {
     "name": "stderr",
     "output_type": "stream",
     "text": [
      "Arena.playGames (1): 100%|██████████| 1/1 [01:56<00:00, 116.10s/it]\n",
      "Arena.playGames (2): 100%|██████████| 1/1 [01:50<00:00, 110.96s/it]"
     ]
    },
    {
     "name": "stdout",
     "output_type": "stream",
     "text": [
      "CPU times: user 25min 51s, sys: 24min 15s, total: 50min 6s\n",
      "Wall time: 15min 52s\n"
     ]
    },
    {
     "name": "stderr",
     "output_type": "stream",
     "text": [
      "\n"
     ]
    }
   ],
   "source": [
    "%time coach.learn()"
   ]
  },
  {
   "cell_type": "code",
   "execution_count": null,
   "metadata": {
    "colab": {
     "base_uri": "https://localhost:8080/"
    },
    "id": "b4CdwwNWd6vt",
    "outputId": "092f967a-b6eb-475a-eebf-31a54e8d6bd5"
   },
   "outputs": [
    {
     "name": "stdout",
     "output_type": "stream",
     "text": [
      "checkpoint                     temp.pth.tar.data-00000-of-00001\n",
      "checkpoint_0.pth.tar.examples  temp.pth.tar.index\n",
      "checkpoint_1.pth.tar.examples\n"
     ]
    }
   ],
   "source": [
    "# Checkpoints and best model (if found) will be saved in this folder\n",
    "%ls /content/alpha-zero-general/temp"
   ]
  }
 ],
 "metadata": {
  "accelerator": "GPU",
  "colab": {
   "collapsed_sections": [],
   "machine_shape": "hm",
   "name": "Train Dots and Boxes using AlphaZero General.ipynb",
   "provenance": []
  },
  "kernelspec": {
   "display_name": "Python 3 (ipykernel)",
   "language": "python",
   "name": "python3"
  },
  "language_info": {
   "codemirror_mode": {
    "name": "ipython",
    "version": 3
   },
   "file_extension": ".py",
   "mimetype": "text/x-python",
   "name": "python",
   "nbconvert_exporter": "python",
   "pygments_lexer": "ipython3",
   "version": "3.8.8"
  }
 },
 "nbformat": 4,
 "nbformat_minor": 1
}
